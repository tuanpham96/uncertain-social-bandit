{
 "cells": [
  {
   "cell_type": "markdown",
   "id": "30b76991-928e-4a29-8cea-738d6cd88cee",
   "metadata": {},
   "source": [
    "# Changed social influence integation with network structure"
   ]
  },
  {
   "cell_type": "markdown",
   "id": "7c60b8f8-1f9a-41af-a6b6-25fe7b33984f",
   "metadata": {},
   "source": [
    "## 1. Description"
   ]
  },
  {
   "cell_type": "markdown",
   "id": "7652b04e-1293-4a73-9380-d288b8009fac",
   "metadata": {},
   "source": [
    "In the paper and the replication notebook, the social influence on utility of a given choice is from the number of agents with choosing the same choice on the previous time step, of an *all-to-all* network of size $N=20$. The social influence \"factor\" is controled by $\\alpha$. The equation would be as followed:\n",
    "\n",
    "$$ \n",
    "\\mathbf{Q}_t = \n",
    "    \\mathbf{M}_t + \n",
    "    \\left(\n",
    "        \\mathbf{A}_{t-1}\\mathbf{W}\n",
    "    \\right)^{\\alpha}\n",
    "$$\n",
    "\n",
    "However, this does not seem to be a good choice of social influence integration when $N$ gets larger. A way to control this is using mean social content instead. \n",
    "\n",
    "$$ \n",
    "\\mathbf{Q}_t = \n",
    "    \\gamma \\mathbf{M}_t + \n",
    "    (1-\\gamma) \\mathbf{C}_{t-1} \\psi_1\\left(\\mathbf{W}\\right) \n",
    "    \\text{ where } \\mathbf{C} \\in \\left\\{ \\mathbf{M}, \\mathbf{Y} \\right\\} \n",
    "    \\text{ and } \\psi_1 \\text{ is a column } L^1 \\text{-norm}\n",
    "$$\n",
    "\n",
    "The term $\\mathbf{C}$ is called content, and can be either the belief or reward from previous time step from the neighbors. The term $\\psi_1\\left(\\mathbf{W}\\right)$ is normalizing the neighborhood with $L^1$-norm, so the social influence on choice $i$ of agent $j$ would be the mean belief (or reward) on the same choice $i$ only from neighbors of $j$. What this modification of the social integration is attempting is to have the same units between the belief influence and the mean social influence on the final utility. \n",
    "\n",
    "There are two variations to control social influence \"factor\" here. One is the explicit $\\gamma$ factor to scale the mean belief and social influence. The other is the initial creation of $\\mathbf{W}$ (so far still considering static social networks), in which $p_{\\text{social}}$ controls the connectivity probability for an ER network."
   ]
  },
  {
   "cell_type": "markdown",
   "id": "5d8dacc9-3ce1-4664-b313-a5349a7eae41",
   "metadata": {
    "jp-MarkdownHeadingCollapsed": true
   },
   "source": [
    "## 2. Initialization"
   ]
  },
  {
   "cell_type": "code",
   "execution_count": 1,
   "id": "db633a1e-0109-40ae-aa33-e209ea0eddb0",
   "metadata": {},
   "outputs": [],
   "source": [
    "import os\n",
    "if \"notebooks\" in os.getcwd(): os.chdir('..')"
   ]
  },
  {
   "cell_type": "code",
   "execution_count": 2,
   "id": "10d67331-aedf-4a48-9d13-d3fc2bc5b30d",
   "metadata": {},
   "outputs": [],
   "source": [
    "import pandas as pd\n",
    "import numpy as np\n",
    "import networkx as nx \n",
    "\n",
    "from tqdm.notebook import tqdm\n",
    "import yaml"
   ]
  },
  {
   "cell_type": "code",
   "execution_count": 3,
   "id": "3b02960c-01fd-4e90-8faa-1ef646cd68d2",
   "metadata": {},
   "outputs": [],
   "source": [
    "import exputils.exp1_meansocialcontent as Experiment"
   ]
  },
  {
   "cell_type": "code",
   "execution_count": 3,
   "id": "dfb08d8e-014d-4d3d-ad2e-4279c991809d",
   "metadata": {},
   "outputs": [],
   "source": [
    "import seaborn as sns\n",
    "from matplotlib import pyplot as plt\n",
    "from matplotlib import rcParams\n",
    "\n",
    "plt.style.use(['seaborn-notebook', 'exputils/mpl.style'])"
   ]
  },
  {
   "cell_type": "markdown",
   "id": "bfcbe246-bab5-4196-a6ea-1a7850f06d4f",
   "metadata": {
    "tags": []
   },
   "source": [
    "## 3. Experiment"
   ]
  },
  {
   "cell_type": "markdown",
   "id": "5b1598ab-ce1b-4824-b73a-7796c37ee127",
   "metadata": {},
   "source": [
    "### 3.1. Test one run"
   ]
  },
  {
   "cell_type": "markdown",
   "id": "9dc2bc1e-f03f-4426-96a8-71a8261bf230",
   "metadata": {},
   "source": [
    "Variations on the choices of networks:\n",
    "\n",
    "``` python\n",
    "agent_social_network = nx.to_numpy_array(nx.erdos_renyi_graph(100, p = 0.1)) # -> num_agents = 100\n",
    "agent_social_network = nx.to_numpy_array(nx.stochastic_block_model([50, 50], np.eye(2)*0.1 + 0.01, seed=2)) # -> num_agents = 100\n",
    "agent_social_network = nx.to_numpy_array(nx.barabasi_albert_graph(100, m=3)) # -> num_agents = 100\n",
    "agent_social_network = nx.to_numpy_array(nx.grid_graph((10,10))) # -> num_agents = 100\n",
    "agent_social_network = nx.to_numpy_array(nx.hexagonal_lattice_graph(6,6)) # -> num_agents = 96\n",
    "agent_social_network = None \n",
    "```"
   ]
  },
  {
   "cell_type": "code",
   "execution_count": 5,
   "id": "c7eac32d-658c-4474-a21d-4bb15441a996",
   "metadata": {},
   "outputs": [
    {
     "data": {
      "application/vnd.jupyter.widget-view+json": {
       "model_id": "69256b33cb2e4526984ae6bb17d68f1d",
       "version_major": 2,
       "version_minor": 0
      },
      "text/plain": [
       "  0%|          | 0/1200 [00:00<?, ?it/s]"
      ]
     },
     "metadata": {},
     "output_type": "display_data"
    },
    {
     "data": {
      "text/plain": [
       "{'explore_num': array([27.25,  8.09,  0.66,  0.  ,  0.  ,  0.  ,  0.  ,  0.  , 25.73,\n",
       "        15.1 , 10.17,  5.16,  2.69,  1.18,  0.87,  0.72,  0.65,  0.78,\n",
       "         0.28,  0.23,  0.34,  0.58,  0.28,  0.89]),\n",
       " 'unq_choices': array([ 28.25,  36.34,  37.  ,  37.  ,  37.  ,  37.  ,  37.  ,  37.  ,\n",
       "         62.54,  77.51,  87.6 ,  92.68,  95.33,  96.5 ,  97.36,  98.08,\n",
       "         98.72,  99.5 ,  99.78, 100.01, 100.35, 100.93, 101.2 , 102.08]),\n",
       " 'explore_ent': array([4.51216521, 4.92433394, 5.0249499 , 5.04797768, 5.04946835,\n",
       "        5.0542063 , 5.05028375, 5.05213366, 5.43286996, 5.62091368,\n",
       "        5.73206713, 5.77317654, 5.77837757, 5.76108027, 5.72784218,\n",
       "        5.69003358, 5.64910352, 5.60715498, 5.55765039, 5.5064091 ,\n",
       "        5.45257981, 5.40362221, 5.35436014, 5.30891092]),\n",
       " 'mean_reward': array([11.91499979, 67.72338879, 86.31402883]),\n",
       " 'loss_num': array([144.27,  58.91,  27.15]),\n",
       " 'loss_mag': array([29.57625845, 67.76917633, 60.71656054]),\n",
       " 'gain_num': array([254.73, 341.09, 372.85]),\n",
       " 'gain_mag': array([35.4609458 , 91.12444719, 97.02042685])}"
      ]
     },
     "execution_count": 5,
     "metadata": {},
     "output_type": "execute_result"
    }
   ],
   "source": [
    "num_agents = 100\n",
    "\n",
    "agent_social_network = nx.to_numpy_array(nx.erdos_renyi_graph(num_agents, p = 0.01))\n",
    "\n",
    "model = Experiment.SocialMAB_ChildDev(\n",
    "    num_agents = num_agents,\n",
    "    social_content = 'reward', \n",
    "    social_network = agent_social_network,\n",
    "    gamma = 0.8,\n",
    "    BMT_error = 3600,\n",
    ")\n",
    "\n",
    "model.run(tqdm_fn = tqdm)\n",
    "model.analysis['aggregate']"
   ]
  },
  {
   "cell_type": "code",
   "execution_count": 6,
   "id": "3cee4818-2734-41d8-b9b2-6fe02432d783",
   "metadata": {},
   "outputs": [
    {
     "data": {
      "image/png": "[encoded data removed]",
      "text/plain": [
       "<Figure size 576x396 with 1 Axes>"
      ]
     },
     "metadata": {
      "needs_background": "light"
     },
     "output_type": "display_data"
    }
   ],
   "source": [
    "plt.plot(model.analysis['aggregate']['explore_num'])\n",
    "plt.show()"
   ]
  },
  {
   "cell_type": "markdown",
   "id": "1edbc940-e153-4988-ba4c-5ff5294bd25a",
   "metadata": {},
   "source": [
    "### 3.2. Test a few variations"
   ]
  },
  {
   "cell_type": "code",
   "execution_count": 10,
   "id": "2ee0a5ba-774e-4535-b18f-0cded80af258",
   "metadata": {},
   "outputs": [],
   "source": [
    "# social network constructor arguments\n",
    "social_net_args = [{'type': 'None'}] +\\\n",
    "    [{'type': 'ER', 'p': x} for x in [0.5, 1.0]] +\\\n",
    "    [{'type': 'SBM', 'k': 2, 'p_max': x} for x in [0.1, 0.2]] "
   ]
  },
  {
   "cell_type": "code",
   "execution_count": 11,
   "id": "09da1862-e471-4bbc-a9f9-d5c359ef0803",
   "metadata": {},
   "outputs": [],
   "source": [
    "# variation dictionary \n",
    "var_dict = dict(\n",
    "    num_agents = [20],\n",
    "    social_content = ['belief'],\n",
    "    social_net_args = social_net_args,\n",
    "    utility_gamma = [0, 0.5, 1.0],\n",
    "    BMT_error = [3600]\n",
    ")"
   ]
  },
  {
   "cell_type": "code",
   "execution_count": 12,
   "id": "0d85f818-d29b-4d7a-9c46-78a6718f0063",
   "metadata": {},
   "outputs": [
    {
     "data": {
      "application/vnd.jupyter.widget-view+json": {
       "model_id": "4b35d0314ff7477486027c12e70344a2",
       "version_major": 2,
       "version_minor": 0
      },
      "text/plain": [
       "  0%|          | 0/45 [00:00<?, ?it/s]"
      ]
     },
     "metadata": {},
     "output_type": "display_data"
    }
   ],
   "source": [
    "results = Experiment.run_experiment(\n",
    "    var_dict = var_dict,\n",
    "    save_dir = 'data/output/test/test1', \n",
    "    save_detailed_analysis = True,\n",
    "    num_trials = 3,\n",
    "    max_workers = 5\n",
    ")"
   ]
  },
  {
   "cell_type": "markdown",
   "id": "ffd61198-56c0-420d-aab5-410eb245925c",
   "metadata": {},
   "source": [
    "### 3.3. Run experiments"
   ]
  },
  {
   "cell_type": "code",
   "execution_count": 38,
   "id": "c06f1f09-020d-4234-a90a-abc3fe36fb38",
   "metadata": {},
   "outputs": [],
   "source": [
    "p_ER = np.logspace(-2.1, -0.05, 10)\n",
    "p_max_SBM = np.logspace(-1.5, -0.1, 10)\n",
    "\n",
    "def _p_round(p_vec, k=3): \n",
    "    return list(map(float, np.round(p_vec,k)))\n",
    "\n",
    "social_net_args = [{'type': 'None'}] +\\\n",
    "    [{'type': 'ER', 'p': x} for x in _p_round(p_ER)] +\\\n",
    "    [{'type': 'SBM', 'k': 4, 'p_max': x} for x in _p_round(p_max_SBM)] "
   ]
  },
  {
   "cell_type": "code",
   "execution_count": 39,
   "id": "dcf814a0-1101-452e-8e53-a9b1d0158ea5",
   "metadata": {},
   "outputs": [],
   "source": [
    "var_dict = dict(\n",
    "    num_agents = [100],\n",
    "    social_content = ['belief',  'reward'],\n",
    "    social_net_args = social_net_args,\n",
    "    utility_gamma = [0, 0.2, 0.4, 0.6, 0.8, 1.0],\n",
    "    mu0 = [100.0], \n",
    "    BMT_error = [3600]\n",
    ")"
   ]
  },
  {
   "cell_type": "code",
   "execution_count": 40,
   "id": "b4da94fb-4434-4681-8ab3-9cbf9c9db35a",
   "metadata": {},
   "outputs": [],
   "source": [
    "with open(os.path.join('data/output/exp1', 'variations.yaml'), 'w') as f: \n",
    "    yaml.safe_dump(var_dict, f)"
   ]
  },
  {
   "cell_type": "code",
   "execution_count": null,
   "id": "36e5682a-b51a-4e38-a13d-d6d7cab68d5f",
   "metadata": {},
   "outputs": [],
   "source": [
    "results = Experiment.run_experiment(\n",
    "    var_dict = var_dict,\n",
    "    save_dir = 'data/output/exp1', \n",
    "    save_detailed_analysis = True,\n",
    "    num_trials = 10,\n",
    "    max_workers = 8,\n",
    "    chunksize = 3\n",
    ")"
   ]
  },
  {
   "cell_type": "markdown",
   "id": "f4590cae-711f-400d-87c6-2ad166c69317",
   "metadata": {},
   "source": [
    "## 4. Load data and visualize"
   ]
  },
  {
   "cell_type": "markdown",
   "id": "efe7f0a6-3176-4ba9-b764-15dd0bc5a858",
   "metadata": {
    "tags": []
   },
   "source": [
    "### 4.1. Load data"
   ]
  },
  {
   "cell_type": "code",
   "execution_count": 86,
   "id": "fc012918-8496-4091-a75d-393959937735",
   "metadata": {},
   "outputs": [],
   "source": [
    "import glob\n",
    "import plotly.express as px\n",
    "import itertools \n",
    "from matplotlib import cm\n",
    "import matplotlib as mpl"
   ]
  },
  {
   "cell_type": "code",
   "execution_count": 5,
   "id": "a269acd2-e3ca-4027-972d-891ecfa14091",
   "metadata": {},
   "outputs": [
    {
     "name": "stdout",
     "output_type": "stream",
     "text": [
      "['data/output/exp1/reward.parq', 'data/output/exp1/variations.parq', 'data/output/exp1/explore.parq']\n"
     ]
    }
   ],
   "source": [
    "file_prefix = 'data/output/exp1/'\n",
    "result_files = glob.glob(file_prefix + '*.parq')\n",
    "var_file = file_prefix + 'variations.yaml'\n",
    "\n",
    "print(result_files)"
   ]
  },
  {
   "cell_type": "code",
   "execution_count": 6,
   "id": "65c1ee2c-5823-467d-a2b3-c1d3311862f1",
   "metadata": {},
   "outputs": [],
   "source": [
    "with open(var_file, 'r') as f: \n",
    "    variations = yaml.safe_load(f)\n"
   ]
  },
  {
   "cell_type": "code",
   "execution_count": 7,
   "id": "51ffd8d4-7ec7-4221-8bc8-bfdeb9d7572f",
   "metadata": {},
   "outputs": [],
   "source": [
    "def process_results(file_list, drop_const_var = False):\n",
    "    cols_to_drop = ['_unq_id', '_trial_id', 'file_name'] \n",
    "    \n",
    "    def get_key(file_name):\n",
    "        return os.path.splitext(os.path.basename(file_name))[0]\n",
    "    \n",
    "    dfs = {get_key(x): pd.read_parquet(x).drop(cols_to_drop, axis=1)\n",
    "           for x in file_list}\n",
    "    \n",
    "    unq_vars = dfs['variations']\\\n",
    "                .drop_duplicates(ignore_index=True)\\\n",
    "                .set_index('_var_id')\n",
    "    var_cols = unq_vars.columns\n",
    "    unq_vars = unq_vars[sorted(var_cols)]\n",
    "    \n",
    "\n",
    "    for k, v in dfs.items():\n",
    "        if k == 'variations': \n",
    "            dfs[k] = unq_vars.reset_index()\n",
    "            continue\n",
    "        dfs[k] = v.drop(var_cols, axis=1)\\\n",
    "                .set_index('_var_id')\\\n",
    "                .groupby(['_var_id', 'time'], as_index=True)\\\n",
    "                .mean()\\\n",
    "                .join(unq_vars)\\\n",
    "                .reset_index()\n",
    "        \n",
    "    if drop_const_var: \n",
    "        const_vars = unq_vars.apply(lambda g: g.nunique() == 1)\n",
    "        const_vars = [k for k, v in const_vars.items() if v]\n",
    "        dfs = {k: v.drop(const_vars, axis=1) for k, v in dfs.items()}\n",
    "        \n",
    "    return dfs \n",
    "\n",
    "dfs = process_results(result_files, drop_const_var=True)\n",
    "                                                                   "
   ]
  },
  {
   "cell_type": "code",
   "execution_count": 122,
   "id": "801cc68e-a1a6-49b8-89e9-053aef3e02cc",
   "metadata": {},
   "outputs": [
    {
     "data": {
      "text/html": [
       "<div>\n",
       "<style scoped>\n",
       "    .dataframe tbody tr th:only-of-type {\n",
       "        vertical-align: middle;\n",
       "    }\n",
       "\n",
       "    .dataframe tbody tr th {\n",
       "        vertical-align: top;\n",
       "    }\n",
       "\n",
       "    .dataframe thead th {\n",
       "        text-align: right;\n",
       "    }\n",
       "</style>\n",
       "<table border=\"1\" class=\"dataframe\">\n",
       "  <thead>\n",
       "    <tr style=\"text-align: right;\">\n",
       "      <th></th>\n",
       "      <th>_var_id</th>\n",
       "      <th>social_content</th>\n",
       "      <th>social_net_args::p</th>\n",
       "      <th>social_net_args::p_max</th>\n",
       "      <th>social_net_args::type</th>\n",
       "      <th>utility_gamma</th>\n",
       "    </tr>\n",
       "  </thead>\n",
       "  <tbody>\n",
       "    <tr>\n",
       "      <th>0</th>\n",
       "      <td>0</td>\n",
       "      <td>belief</td>\n",
       "      <td>NaN</td>\n",
       "      <td>NaN</td>\n",
       "      <td>None</td>\n",
       "      <td>0.0</td>\n",
       "    </tr>\n",
       "    <tr>\n",
       "      <th>1</th>\n",
       "      <td>1</td>\n",
       "      <td>belief</td>\n",
       "      <td>NaN</td>\n",
       "      <td>NaN</td>\n",
       "      <td>None</td>\n",
       "      <td>0.2</td>\n",
       "    </tr>\n",
       "    <tr>\n",
       "      <th>2</th>\n",
       "      <td>2</td>\n",
       "      <td>belief</td>\n",
       "      <td>NaN</td>\n",
       "      <td>NaN</td>\n",
       "      <td>None</td>\n",
       "      <td>0.4</td>\n",
       "    </tr>\n",
       "    <tr>\n",
       "      <th>3</th>\n",
       "      <td>3</td>\n",
       "      <td>belief</td>\n",
       "      <td>NaN</td>\n",
       "      <td>NaN</td>\n",
       "      <td>None</td>\n",
       "      <td>0.6</td>\n",
       "    </tr>\n",
       "    <tr>\n",
       "      <th>4</th>\n",
       "      <td>4</td>\n",
       "      <td>belief</td>\n",
       "      <td>NaN</td>\n",
       "      <td>NaN</td>\n",
       "      <td>None</td>\n",
       "      <td>0.8</td>\n",
       "    </tr>\n",
       "    <tr>\n",
       "      <th>...</th>\n",
       "      <td>...</td>\n",
       "      <td>...</td>\n",
       "      <td>...</td>\n",
       "      <td>...</td>\n",
       "      <td>...</td>\n",
       "      <td>...</td>\n",
       "    </tr>\n",
       "    <tr>\n",
       "      <th>247</th>\n",
       "      <td>247</td>\n",
       "      <td>reward</td>\n",
       "      <td>NaN</td>\n",
       "      <td>0.794</td>\n",
       "      <td>SBM</td>\n",
       "      <td>0.2</td>\n",
       "    </tr>\n",
       "    <tr>\n",
       "      <th>248</th>\n",
       "      <td>248</td>\n",
       "      <td>reward</td>\n",
       "      <td>NaN</td>\n",
       "      <td>0.794</td>\n",
       "      <td>SBM</td>\n",
       "      <td>0.4</td>\n",
       "    </tr>\n",
       "    <tr>\n",
       "      <th>249</th>\n",
       "      <td>249</td>\n",
       "      <td>reward</td>\n",
       "      <td>NaN</td>\n",
       "      <td>0.794</td>\n",
       "      <td>SBM</td>\n",
       "      <td>0.6</td>\n",
       "    </tr>\n",
       "    <tr>\n",
       "      <th>250</th>\n",
       "      <td>250</td>\n",
       "      <td>reward</td>\n",
       "      <td>NaN</td>\n",
       "      <td>0.794</td>\n",
       "      <td>SBM</td>\n",
       "      <td>0.8</td>\n",
       "    </tr>\n",
       "    <tr>\n",
       "      <th>251</th>\n",
       "      <td>251</td>\n",
       "      <td>reward</td>\n",
       "      <td>NaN</td>\n",
       "      <td>0.794</td>\n",
       "      <td>SBM</td>\n",
       "      <td>1.0</td>\n",
       "    </tr>\n",
       "  </tbody>\n",
       "</table>\n",
       "<p>252 rows × 6 columns</p>\n",
       "</div>"
      ],
      "text/plain": [
       "     _var_id social_content  social_net_args::p  social_net_args::p_max  \\\n",
       "0          0         belief                 NaN                     NaN   \n",
       "1          1         belief                 NaN                     NaN   \n",
       "2          2         belief                 NaN                     NaN   \n",
       "3          3         belief                 NaN                     NaN   \n",
       "4          4         belief                 NaN                     NaN   \n",
       "..       ...            ...                 ...                     ...   \n",
       "247      247         reward                 NaN                   0.794   \n",
       "248      248         reward                 NaN                   0.794   \n",
       "249      249         reward                 NaN                   0.794   \n",
       "250      250         reward                 NaN                   0.794   \n",
       "251      251         reward                 NaN                   0.794   \n",
       "\n",
       "    social_net_args::type  utility_gamma  \n",
       "0                    None            0.0  \n",
       "1                    None            0.2  \n",
       "2                    None            0.4  \n",
       "3                    None            0.6  \n",
       "4                    None            0.8  \n",
       "..                    ...            ...  \n",
       "247                   SBM            0.2  \n",
       "248                   SBM            0.4  \n",
       "249                   SBM            0.6  \n",
       "250                   SBM            0.8  \n",
       "251                   SBM            1.0  \n",
       "\n",
       "[252 rows x 6 columns]"
      ]
     },
     "execution_count": 122,
     "metadata": {},
     "output_type": "execute_result"
    }
   ],
   "source": [
    "dfs['variations']"
   ]
  },
  {
   "cell_type": "code",
   "execution_count": 12,
   "id": "87ca2478-da8a-44f7-842f-12cce0c6e566",
   "metadata": {},
   "outputs": [
    {
     "data": {
      "text/plain": [
       "array(['None', 'ER', 'SBM'], dtype=object)"
      ]
     },
     "execution_count": 12,
     "metadata": {},
     "output_type": "execute_result"
    }
   ],
   "source": [
    "dfs['explore']['social_net_args::type'].unique()"
   ]
  },
  {
   "cell_type": "code",
   "execution_count": 75,
   "id": "cb3360f7-88a0-4d5a-8f1a-8a587165eb05",
   "metadata": {},
   "outputs": [],
   "source": [
    "col_names = {k: set(v.columns) for k, v in dfs.items()}\n",
    "col_names = {k: list(v - col_names['variations'] - {'time'}) if k != 'variations' else list(v) for k, v in col_names.items()}\n",
    "\n",
    "label_names = {k: k.replace('_', ' ') for k in itertools.chain(*col_names.values())}\n",
    "\n",
    "special_names = {\n",
    "    'social_net_args::type': 'social network',\n",
    "    'social_content': r'$\\textit{social content}$',\n",
    "    'social_net_args::p': r'$P_{\\mathrm{neigh}}^{\\mathrm{ER}}$',\n",
    "    'social_net_args::p_max': r'$P_{\\mathrm{block}}^{\\mathrm{SBM}}$',\n",
    "    'utility_gamma': r'$\\gamma_{\\mathrm{utility}}$'\n",
    "}\n",
    "\n",
    "label_names.update(special_names)"
   ]
  },
  {
   "cell_type": "code",
   "execution_count": 112,
   "id": "8894c1ae-e074-42ff-a81a-397ebddbfc85",
   "metadata": {},
   "outputs": [
    {
     "data": {
      "text/plain": [
       "{'reward': ['loss_mag', 'loss_num', 'gain_mag', 'mean_reward', 'gain_num'],\n",
       " 'variations': ['utility_gamma',\n",
       "  'social_net_args::type',\n",
       "  '_var_id',\n",
       "  'social_content',\n",
       "  'social_net_args::p',\n",
       "  'social_net_args::p_max'],\n",
       " 'explore': ['explore_ent', 'unq_choices', 'explore_num']}"
      ]
     },
     "execution_count": 112,
     "metadata": {},
     "output_type": "execute_result"
    }
   ],
   "source": [
    "col_names"
   ]
  },
  {
   "cell_type": "markdown",
   "id": "db72036f-c7b5-4f76-b063-36a26bfb2514",
   "metadata": {
    "tags": []
   },
   "source": [
    "### 4.2. Visualize data"
   ]
  },
  {
   "cell_type": "markdown",
   "id": "a688817e-61a1-476f-a346-08736484a0d3",
   "metadata": {},
   "source": [
    "View visualization [here](https://traveler4049.pythonanywhere.com/)"
   ]
  },
  {
   "cell_type": "code",
   "execution_count": 120,
   "id": "65be089d-1c3e-4bb5-aa59-82db32eb0a43",
   "metadata": {},
   "outputs": [],
   "source": [
    "def create_cmap(cmap_name, num_colors, alpha=1.0, scale=1.0):\n",
    "    cmap = cm.get_cmap(cmap_name, num_colors)(np.linspace(0,1,num_colors)) * 255 * scale\n",
    "    cmap = ['rgba(%d,%d,%d,%f)' %(x[0], x[1], x[2], alpha) for x in cmap]\n",
    "    return cmap "
   ]
  },
  {
   "cell_type": "code",
   "execution_count": 150,
   "id": "f7d35c8f-1215-433b-b3fc-40a36b023448",
   "metadata": {},
   "outputs": [],
   "source": [
    "import plotly.graph_objects as go \n",
    "\n",
    "def gen_layout():\n",
    "    axis_config = dict(\n",
    "        showline=True,\n",
    "        showgrid=False,\n",
    "        showticklabels=True,\n",
    "        linecolor='rgb(0, 0, 0)',\n",
    "        linewidth=2,    \n",
    "        ticks='outside',\n",
    "        tickwidth=2\n",
    "        )\n",
    "\n",
    "    font_config = dict(\n",
    "        family=\"FreeSans\",\n",
    "        size=15,\n",
    "        color='black'\n",
    "        )\n",
    "\n",
    "    title_config = dict(\n",
    "        title_x = 0.5,\n",
    "        title_y = 0.9,\n",
    "        title_xanchor = 'center',\n",
    "        title_yanchor = 'top',\n",
    "        title_font_size=15\n",
    "    )\n",
    "\n",
    "    axis_configs = {}\n",
    "    for i in range(40):\n",
    "        axis_id = '%d' %(i) if i > 0 else ''\n",
    "        axis_configs['xaxis' + axis_id] = axis_config\n",
    "        axis_configs['yaxis' + axis_id] = axis_config\n",
    "\n",
    "    general_layout = go.Layout(\n",
    "        width=1500,\n",
    "        height=600,\n",
    "        **axis_configs,\n",
    "        font=font_config,\n",
    "        showlegend=True,\n",
    "        plot_bgcolor='white',\n",
    "        paper_bgcolor='white',\n",
    "        autosize=True,\n",
    "        **title_config\n",
    "    )\n",
    "    \n",
    "    return general_layout\n"
   ]
  },
  {
   "cell_type": "code",
   "execution_count": null,
   "id": "99a5ec25-f6b3-49b3-9fe2-5364fc0cb5b8",
   "metadata": {},
   "outputs": [],
   "source": [
    "social_net_type = \"ER\"\n",
    "social_net_var_key = 'social_net_args::p'\n",
    "\n",
    "social_net_type = \"SBM\"\n",
    "social_net_var_key = 'social_net_args::p_max'\n",
    "\n",
    "df_plt = dfs['explore'].fillna(0).query('`social_net_args::type` == \"None\" or `social_net_args::type` == @social_net_type')\n",
    "\n",
    "num_unq_colors = len(df_plt[social_net_var_key].unique())\n",
    "cmap = create_cmap('Spectral', num_unq_colors, scale=0.9, alpha=0.8)\n",
    "\n",
    "fig = px.line(\n",
    "    df_plt,\n",
    "    x = 'time', \n",
    "    y = 'explore_num', \n",
    "    color = social_net_var_key, \n",
    "    facet_col = 'utility_gamma', \n",
    "    facet_row = 'social_content',\n",
    "    facet_col_spacing=0.05, \n",
    "    facet_row_spacing=0.1, \n",
    "    color_discrete_sequence=cmap,\n",
    "    labels=label_names\n",
    ")\n",
    "\n",
    "for a in fig.layout.annotations:\n",
    "    a_key, a_val = a.text.split(\"=\")\n",
    "    if a_key.startswith('$') and a_key.endswith('$'):\n",
    "        if type(a_val) is str: \n",
    "            a_val = '\\\\textbf{%s}' %(a_val)\n",
    "        a.text = f'${a_key[1:-1]} = {a_val}$'\n",
    "\n",
    "fig.update_layout(general_layout)\n",
    "\n",
    "\n",
    "fig.show()"
   ]
  }
 ],
 "metadata": {
  "kernelspec": {
   "display_name": "social-bandit",
   "language": "python",
   "name": "social-bandit"
  },
  "language_info": {
   "codemirror_mode": {
    "name": "ipython",
    "version": 3
   },
   "file_extension": ".py",
   "mimetype": "text/x-python",
   "name": "python",
   "nbconvert_exporter": "python",
   "pygments_lexer": "ipython3",
   "version": "3.10.2"
  },
  "scenes_data": {
   "active_scene": "Legacy Init",
   "init_scene": "Legacy Init",
   "scenes": [
    "Default Scene",
    "Legacy Init"
   ]
  }
 },
 "nbformat": 4,
 "nbformat_minor": 5
}
